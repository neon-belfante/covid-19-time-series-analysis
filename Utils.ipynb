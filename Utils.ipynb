{
  "nbformat": 4,
  "nbformat_minor": 0,
  "metadata": {
    "colab": {
      "provenance": [],
      "authorship_tag": "ABX9TyPSPy4VuHQ4iwpGlgtme0Y9",
      "include_colab_link": true
    },
    "kernelspec": {
      "name": "python3",
      "display_name": "Python 3"
    },
    "language_info": {
      "name": "python"
    }
  },
  "cells": [
    {
      "cell_type": "markdown",
      "metadata": {
        "id": "view-in-github",
        "colab_type": "text"
      },
      "source": [
        "<a href=\"https://colab.research.google.com/github/neon-belfante/covid-19-time-series-analysis/blob/main/Utils.ipynb\" target=\"_parent\"><img src=\"https://colab.research.google.com/assets/colab-badge.svg\" alt=\"Open In Colab\"/></a>"
      ]
    },
    {
      "cell_type": "markdown",
      "source": [
        "# Imports\n"
      ],
      "metadata": {
        "id": "oBqDqOelRBEl"
      }
    },
    {
      "cell_type": "code",
      "source": [
        "pip install colour"
      ],
      "metadata": {
        "colab": {
          "base_uri": "https://localhost:8080/"
        },
        "id": "66LnXsz9RxuI",
        "outputId": "e119ddbb-2953-44fb-8609-ea59620db262"
      },
      "execution_count": null,
      "outputs": [
        {
          "output_type": "stream",
          "name": "stdout",
          "text": [
            "Collecting colour\n",
            "  Downloading colour-0.1.5-py2.py3-none-any.whl (23 kB)\n",
            "Installing collected packages: colour\n",
            "Successfully installed colour-0.1.5\n"
          ]
        }
      ]
    },
    {
      "cell_type": "code",
      "source": [
        "pip install pyspark"
      ],
      "metadata": {
        "id": "YICRohXnfVZb"
      },
      "execution_count": null,
      "outputs": []
    },
    {
      "cell_type": "code",
      "source": [
        "from pyspark.sql import SparkSession\n",
        "spark = SparkSession.builder.appName('teste').getOrCreate()"
      ],
      "metadata": {
        "id": "dPYQAprBeD4D"
      },
      "execution_count": null,
      "outputs": []
    },
    {
      "cell_type": "code",
      "execution_count": null,
      "metadata": {
        "id": "RstDMAODQ7YE"
      },
      "outputs": [],
      "source": [
        "import pandas as pd\n",
        "import numpy as np\n",
        "import math\n",
        "from colour import Color\n",
        "from plotly.subplots import make_subplots\n",
        "import plotly.express as px\n",
        "\n",
        "pd.set_option('display.max_rows', 1000)"
      ]
    },
    {
      "cell_type": "code",
      "source": [
        "import pyspark.pandas as pypd\n",
        "import pyspark\n",
        "import pyspark.sql.functions as sql\n",
        "from pyspark.sql.window import Window\n",
        "from pyspark.sql.functions import *\n",
        "from pyspark.sql.types import *"
      ],
      "metadata": {
        "id": "-w99K4uSeHju"
      },
      "execution_count": null,
      "outputs": []
    },
    {
      "cell_type": "code",
      "source": [
        "#Timeseries\n",
        "import seaborn as sns\n",
        "from matplotlib import pyplot as plt\n",
        "from pandas.plotting import autocorrelation_plot\n",
        "from statsmodels.tsa.seasonal import seasonal_decompose"
      ],
      "metadata": {
        "id": "Vd0Poy8NxCZ2"
      },
      "execution_count": null,
      "outputs": []
    },
    {
      "cell_type": "markdown",
      "source": [
        "# Functions"
      ],
      "metadata": {
        "id": "Dov3sszhRPGN"
      }
    },
    {
      "cell_type": "code",
      "source": [
        "# Color Palettes utils\n",
        "def colorToHex(color):\n",
        "  return color.hex\n",
        "\n",
        "def colorRampPalette(n: int, color_list: list):\n",
        "  color_ramp_list = [Color(color_list[0])]\n",
        "  n_colors = len(color_list)\n",
        "  n_i = math.ceil((n - n_colors) / (n_colors - 1)) + 2\n",
        "  for i, color_i in enumerate(color_list[1:]):\n",
        "    color_ramp = list(Color(color_list[i]).range_to(Color(color_i), n_i))\n",
        "    color_ramp_list = color_ramp_list + color_ramp[1:]\n",
        "  return list(map(colorToHex, color_ramp_list[:n]))\n",
        "\n",
        "def colorRampPaletteFromDfColumn(df: pd.DataFrame, column: str, color_list: list):\n",
        "  n = len(df[column].unique())\n",
        "  return colorRampPalette(n, color_list)"
      ],
      "metadata": {
        "id": "SYhaFOgwRN9u"
      },
      "execution_count": null,
      "outputs": []
    },
    {
      "cell_type": "code",
      "source": [
        "#graph Utils\n",
        "\n",
        "#Correlation Matrix\n",
        "def simpleCorrPlot(df: pd.DataFrame):\n",
        "  cor_table = df.corr()\n",
        "  fig = px.imshow(cor_table, text_auto=True, template = 'none', zmax = 1, zmin=-1)\n",
        "  fig.update_traces(texttemplate = '%{z:0.1%}')\n",
        "  fig.update_coloraxes(colorscale=[[0, 'rgb(255,102,102)'], [0.5, 'rgb(255,255,255)'], [1, 'rgb(102,102,255)']])\n",
        "  return fig\n",
        "\n",
        "#Autocorrplot\n",
        "def plotly_autocorr(series, title = ''): \n",
        "  ax =autocorrelation_plot(series)\n",
        "  corr_x = ax.lines[5].get_data()[0]\n",
        "  corr_y = ax.lines[5].get_data()[1]\n",
        "  interval_1 = ax.lines[0].get_data()[1][0]\n",
        "  interval_2 = ax.lines[1].get_data()[1][0]\n",
        "  plt.close()\n",
        "  fig = px.line(x = corr_x, y= corr_y, template='seaborn', width=880)\n",
        "  fig.update_traces(line_color='#9BCD9B')\n",
        "  fig.update_yaxes(range=[-1,1], title='Autocorrelation')\n",
        "  fig.update_xaxes(title='Lag')\n",
        "  fig.update_layout({'title':{'text': title, 'font':{'size': 18}, 'x':0.09, 'y': 0.93}})\n",
        "  fig.add_hline(y = interval_1, line_dash='dash', line_width =1.5, opacity=1, line_color='grey')\n",
        "  fig.add_hline(y = -interval_1, line_dash='dash', line_width =1.5, opacity=1, line_color='grey')\n",
        "  fig.add_hline(y = 0, line_width =1.0, opacity=1, line_color='grey')\n",
        "  fig.add_hline(y = interval_2, line_width =1.5, opacity=1, line_color='grey')\n",
        "  fig.add_hline(y = -interval_2, line_width =1.5, opacity=1, line_color='grey')\n",
        "  return fig\n",
        "\n",
        "#Seasonal Decompose\n",
        "def plot_seasonal_decompose(dataset, x, y, freq, titulo=''):\n",
        "  resultado = seasonal_decompose(dataset[y], period = freq)\n",
        "  data = ({\n",
        "      'timeline' : dataset[x],\n",
        "      'observacao' : resultado.observed,\n",
        "      'tendencia' : resultado.trend,\n",
        "      'sazonalidade' : resultado.seasonal,\n",
        "      'ruido' : resultado.resid.round(2),\n",
        "  })\n",
        "  resultado_dt = pd.DataFrame(data)\n",
        "  fig = make_subplots(rows = 4, cols = 1)\n",
        "  fig1 = px.line(resultado_dt, x = 'timeline', y='observacao'  , template = 'seaborn')\n",
        "  fig2 = px.line(resultado_dt, x = 'timeline', y='tendencia'   , template = 'seaborn')\n",
        "  fig3 = px.line(resultado_dt, x = 'timeline', y='sazonalidade', template = 'seaborn')\n",
        "  fig4 = px.line(resultado_dt, x = 'timeline', y='ruido'       , template = 'seaborn')\n",
        "  fig.add_trace(fig1['data'][0], row=1, col=1)\n",
        "  fig.add_trace(fig2['data'][0], row=2 , col=1)\n",
        "  fig.add_trace(fig3['data'][0], row=3 , col=1)\n",
        "  fig.add_trace(fig4['data'][0], row=4 , col=1)\n",
        "  fig.update_traces(line_color = '#9BCD9B')\n",
        "  fig.update_layout({'title': {'text': titulo,\n",
        "                               'font': {'size': 18}, 'x': 0.09, 'y': 0.91},\n",
        "                    'yaxis' : {'title':{'text': 'Observação'   , 'font': {'size': 14}}},\n",
        "                    'yaxis2': {'title':{'text': 'Tendência'    , 'font': {'size': 14}}},\n",
        "                    'yaxis3': {'title':{'text': 'Sazonalidade' , 'font': {'size': 14}}},\n",
        "                    'yaxis4': {'title':{'text': 'Ruído'        , 'font': {'size': 14}}},\n",
        "                    'xaxis4': {'title':{'text': x.capitalize() , 'font': {'size': 14}}}\n",
        "                     })\n",
        "  fig.update_layout(height = 900, width = 800)\n",
        "  return fig"
      ],
      "metadata": {
        "id": "6Hj_2pgCW5Uy"
      },
      "execution_count": null,
      "outputs": []
    },
    {
      "cell_type": "markdown",
      "source": [
        "# PySpark Funcs"
      ],
      "metadata": {
        "id": "_rbj99pCbRF7"
      }
    },
    {
      "cell_type": "code",
      "source": [
        "def withBands(bands_thresholds: list, column_name: str):\n",
        "  def resultfunc(df: DataFrame):\n",
        "    alpha = \"abcdefghijklmnopqrstuvwxyz\"\n",
        "    alpha_list = list()\n",
        "    alpha_list[:0] = alpha\n",
        "    alpha_list_double = list()\n",
        "    for i in alpha_list:\n",
        "      for j in alpha_list:\n",
        "        alpha_list_double.append(i+j)\n",
        "\n",
        "    if len(bands_thresholds) > 26:\n",
        "      alpha_list = alpha_list_double\n",
        "\n",
        "    df = df.withColumn(column_name + \"_bands\", \n",
        "                  when(col(column_name) <= bands_thresholds[0], \n",
        "                       alpha_list[0]+\"_below_\"+str(int(bands_thresholds[0]))))\n",
        "\n",
        "    for n, threshold in enumerate(bands_thresholds):\n",
        "      if n+1 < len(bands_thresholds):\n",
        "       df = df.withColumn(column_name + \"_bands\", \n",
        "                    when((col(column_name) > bands_thresholds[n]) \n",
        "                       & (col(column_name) <= bands_thresholds[n+1]), \n",
        "                         alpha_list[n+1]+\"_\"+str(int(bands_thresholds[n])+1)+\"_\"+str(int(bands_thresholds[n+1])))\n",
        "                    .otherwise(col(column_name + \"_bands\")))\n",
        "      else:\n",
        "        df = df.withColumn(column_name + \"_bands\", \n",
        "                    when(col(column_name) > bands_thresholds[n], \n",
        "                         alpha_list[n+1]+\"_above_\"+str(int(bands_thresholds[n])))\n",
        "                    .otherwise(col(column_name + \"_bands\")))\n",
        "    return df\n",
        "  return resultfunc\n",
        "\n",
        "def withDummies(column_name: str):\n",
        "  def resultfun(df: DataFrame):\n",
        "    unique_values = [row[0] for row in df.select(column_name).dropDuplicates().orderBy(column_name).collect()]\n",
        "    for value in unique_values:\n",
        "      df = df.withColumn(column_name+\"_\"+str(value), when(col(column_name) == value, 1).otherwise(0))\n",
        "    return df\n",
        "  return resultfun"
      ],
      "metadata": {
        "id": "feDcuJKsbL1X"
      },
      "execution_count": null,
      "outputs": []
    }
  ]
}